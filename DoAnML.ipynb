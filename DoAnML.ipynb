{
 "cells": [
  {
   "cell_type": "markdown",
   "metadata": {},
   "source": [
    "Lớp **NHẬP MÔN HỌC MÁY - CQ2017/21**  \n",
    "Học kì II, 2019 - 2020  "
   ]
  },
  {
   "cell_type": "markdown",
   "metadata": {},
   "source": [
    "<hr>\n",
    "<br>\n",
    "<center><b><font size=\"10\">ĐỒ ÁN CUỐI KÌ</font></b></center>\n",
    "<br>\n",
    "<center>\n",
    "    <font size=\"4\"><b>Nhóm thực hiện:</b></font><br>\n",
    "    Trần Minh Trí - 1712834&emsp;Nguyễn Nhật Trường - 1712852<br>\n",
    "</center>\n",
    "<hr>"
   ]
  },
  {
   "cell_type": "code",
   "execution_count": 1,
   "metadata": {},
   "outputs": [],
   "source": [
    "import numpy as np\n",
    "import pickle\n",
    "import os.path\n",
    "import gzip\n",
    "import math\n",
    "import sklearn\n",
    "from sklearn import svm\n",
    "import time\n",
    "\n",
    "%matplotlib inline\n",
    "import matplotlib.pyplot as plt"
   ]
  },
  {
   "cell_type": "code",
   "execution_count": 2,
   "metadata": {},
   "outputs": [
    {
     "name": "stdout",
     "output_type": "stream",
     "text": [
      "Load model phai cung version 0.23.2\n"
     ]
    },
    {
     "data": {
      "text/plain": [
       "'0.23.2'"
      ]
     },
     "execution_count": 2,
     "metadata": {},
     "output_type": "execute_result"
    }
   ],
   "source": [
    "print(\"Load model phai cung version 0.23.2\")\n",
    "sklearn.__version__"
   ]
  },
  {
   "cell_type": "code",
   "execution_count": 3,
   "metadata": {},
   "outputs": [],
   "source": [
    "def read_mnist(mnist_file):\n",
    "    f = gzip.open(mnist_file, 'rb')\n",
    "    train_data, val_data, test_data = pickle.load(f, encoding='latin1')\n",
    "    f.close()\n",
    "    \n",
    "    train_X, train_Y = train_data\n",
    "    val_X, val_Y = val_data\n",
    "    test_X, test_Y = test_data    \n",
    "    \n",
    "    return train_X, train_Y, val_X, val_Y, test_X, test_Y"
   ]
  },
  {
   "cell_type": "code",
   "execution_count": 4,
   "metadata": {},
   "outputs": [
    {
     "name": "stdout",
     "output_type": "stream",
     "text": [
      "train_X.shape = (50000, 784)\n",
      "train_Y.shape = (50000,)\n",
      "val_X.shape   = (10000, 784)\n",
      "val_Y.shape   = (10000,)\n",
      "test_X.shape  = (10000, 784)\n",
      "test_Y.shape  = (10000,)\n",
      "\n",
      "train_X: min = 0.000, max = 0.996\n",
      "train_Y: min = 0, max = 9\n"
     ]
    }
   ],
   "source": [
    "# Test\n",
    "train_X, train_Y, val_X, val_Y, test_X, test_Y = read_mnist('mnist.pkl.gz')\n",
    "\n",
    "print('train_X.shape =', train_X.shape)\n",
    "print('train_Y.shape =', train_Y.shape)\n",
    "print('val_X.shape   =', val_X.shape)\n",
    "print('val_Y.shape   =', val_Y.shape)\n",
    "print('test_X.shape  =', test_X.shape)\n",
    "print('test_Y.shape  =', test_Y.shape)\n",
    "\n",
    "print('\\ntrain_X: min = %.3f, max = %.3f' %(train_X.min(), train_X.max()))\n",
    "print('train_Y: min = %d, max = %d' %(train_Y.min(), train_Y.max()))"
   ]
  },
  {
   "cell_type": "markdown",
   "metadata": {},
   "source": [
    "# Huấn luyện SVM Linear"
   ]
  },
  {
   "cell_type": "code",
   "execution_count": 5,
   "metadata": {},
   "outputs": [],
   "source": [
    "# Hàm huấn luyện save từng model lại để:\n",
    "#   - Nếu có lỗi giữa chừng (máy treo,...) vẫn còn 1 phần tiến trình khi chạy lại\n",
    "#   - Không cần train lại lỗi lần cần gọi lại model\n",
    "def create_linear_clf(c):\n",
    "    to_save = \"linear_data/linear_C={0}.pkl\".format(c)\n",
    "    if not os.path.isfile(to_save):\n",
    "        starttime = time.time()\n",
    "        print(\"Started\", to_save, \"at\", time.strftime('%H:%M:%S', time.localtime(starttime)), end=\" | \")\n",
    "        model = svm.SVC(kernel=\"linear\", decision_function_shape='ovo', C=c)\n",
    "        model.fit(train_X, train_Y)\n",
    "        pickle.dump(model, open(to_save, 'wb'))\n",
    "        print(\"Finished. Time elapsed:\", time.time() - starttime)\n",
    "    else:\n",
    "        model = pickle.load(open(to_save, 'rb'))\n",
    "        print(\"Loaded: \", to_save)\n",
    "    return model"
   ]
  },
  {
   "cell_type": "code",
   "execution_count": 6,
   "metadata": {},
   "outputs": [
    {
     "name": "stdout",
     "output_type": "stream",
     "text": [
      "Loaded:  linear_data/linear_C=20.pkl\n",
      "Loaded:  linear_data/linear_C=10.pkl\n",
      "Loaded:  linear_data/linear_C=5.pkl\n",
      "Loaded:  linear_data/linear_C=4.pkl\n",
      "Loaded:  linear_data/linear_C=3.pkl\n",
      "Loaded:  linear_data/linear_C=2.pkl\n",
      "Loaded:  linear_data/linear_C=1.pkl\n",
      "Loaded:  linear_data/linear_C=0.5.pkl\n",
      "Loaded:  linear_data/linear_C=0.1.pkl\n",
      "Loaded:  linear_data/linear_C=0.01.pkl\n",
      "Loaded:  linear_data/linear_C=0.001.pkl\n",
      "Loaded:  linear_data/linear_C=0.0001.pkl\n",
      "Loaded:  linear_data/linear_C=1e-05.pkl\n",
      "Loaded:  linear_data/linear_C=1e-06.pkl\n"
     ]
    }
   ],
   "source": [
    "clf_linear_list = []\n",
    "C = [20, 10, 5, 4, 3, 2, 1, 0.5, 1e-1, 1e-2, 1e-3, 1e-4, 1e-5, 1e-6]\n",
    "for c in C:\n",
    "    model =  create_linear_clf(c)\n",
    "        \n",
    "    clf_linear_list.append(model)"
   ]
  },
  {
   "cell_type": "code",
   "execution_count": 7,
   "metadata": {},
   "outputs": [],
   "source": [
    "scr_val = []"
   ]
  },
  {
   "cell_type": "code",
   "execution_count": 8,
   "metadata": {},
   "outputs": [
    {
     "name": "stdout",
     "output_type": "stream",
     "text": [
      "Wall time: 41min 15s\n"
     ]
    }
   ],
   "source": [
    "%%time # tb: 41min 15s\n",
    "for clf in clf_linear_list:\n",
    "    scr_val.append(clf.score(val_X, val_Y))"
   ]
  },
  {
   "cell_type": "code",
   "execution_count": 9,
   "metadata": {},
   "outputs": [
    {
     "name": "stdout",
     "output_type": "stream",
     "text": [
      "C\tVal\n",
      "20\t0.9264\n",
      "10\t0.9284\n",
      "5\t0.9306\n",
      "4\t0.9325\n",
      "3\t0.9347\n",
      "2\t0.9377\n",
      "1\t0.9423\n",
      "0.5\t0.9445\n",
      "0.1\t0.9481\n",
      "0.01\t0.9437\n",
      "0.001\t0.9309\n",
      "0.0001\t0.8971\n",
      "1e-05\t0.6053\n",
      "1e-06\t0.1064\n"
     ]
    }
   ],
   "source": [
    "print(\"C\", \"Val\", sep='\\t')\n",
    "for i in range(len(clf_linear_list)):\n",
    "    print(C[i], scr_val[i],sep='\\t')"
   ]
  },
  {
   "cell_type": "code",
   "execution_count": 12,
   "metadata": {},
   "outputs": [
    {
     "data": {
      "text/plain": [
       "(0.9481, 8, SVC(C=0.1, decision_function_shape='ovo', kernel='linear'))"
      ]
     },
     "execution_count": 12,
     "metadata": {},
     "output_type": "execute_result"
    }
   ],
   "source": [
    "max_s = max(scr_val)\n",
    "max_i = scr_val.index(max_s)\n",
    "max_s, max_i, clf_linear_list[max_i]"
   ]
  },
  {
   "cell_type": "code",
   "execution_count": 13,
   "metadata": {},
   "outputs": [
    {
     "name": "stdout",
     "output_type": "stream",
     "text": [
      "Loaded:  linear_data/linear_C=0.12.pkl\n",
      "Loaded:  linear_data/linear_C=0.11.pkl\n",
      "Loaded:  linear_data/linear_C=0.1.pkl\n",
      "Loaded:  linear_data/linear_C=0.09.pkl\n",
      "Loaded:  linear_data/linear_C=0.08.pkl\n"
     ]
    }
   ],
   "source": [
    "clf_linear_list2 = []\n",
    "C = [0.12, 0.11, 0.1, 0.09, 0.08]\n",
    "for c in C:\n",
    "    model = create_linear_clf(c)\n",
    "        \n",
    "    clf_linear_list2.append(model)"
   ]
  },
  {
   "cell_type": "code",
   "execution_count": 14,
   "metadata": {},
   "outputs": [],
   "source": [
    "scr_val = []"
   ]
  },
  {
   "cell_type": "code",
   "execution_count": 15,
   "metadata": {},
   "outputs": [
    {
     "name": "stdout",
     "output_type": "stream",
     "text": [
      "Wall time: 7min 23s\n"
     ]
    }
   ],
   "source": [
    "%%time # tb 7min 23s\n",
    "for clf in clf_linear_list2:\n",
    "    scr_val.append(clf.score(val_X, val_Y))"
   ]
  },
  {
   "cell_type": "code",
   "execution_count": 16,
   "metadata": {
    "scrolled": true
   },
   "outputs": [
    {
     "name": "stdout",
     "output_type": "stream",
     "text": [
      "C\tVal\n",
      "0.12\t0.9472\n",
      "0.11\t0.9477\n",
      "0.1\t0.9481\n",
      "0.09\t0.948\n",
      "0.08\t0.9478\n"
     ]
    }
   ],
   "source": [
    "print(\"C\", \"Val\", sep='\\t')\n",
    "for i in range(len(clf_linear_list2)):\n",
    "    print(C[i], scr_val[i],sep='\\t')"
   ]
  },
  {
   "cell_type": "code",
   "execution_count": 17,
   "metadata": {},
   "outputs": [
    {
     "name": "stdout",
     "output_type": "stream",
     "text": [
      "Loaded:  linear_data/linear_C=0.102.pkl\n",
      "Loaded:  linear_data/linear_C=0.101.pkl\n",
      "Loaded:  linear_data/linear_C=0.1.pkl\n",
      "Loaded:  linear_data/linear_C=0.099.pkl\n",
      "Loaded:  linear_data/linear_C=0.098.pkl\n"
     ]
    }
   ],
   "source": [
    "clf_linear_list3 = []\n",
    "C = [0.102, 0.101, 0.1, 0.099, 0.098]\n",
    "for c in C:\n",
    "    model = create_linear_clf(c)\n",
    "        \n",
    "    clf_linear_list3.append(model)"
   ]
  },
  {
   "cell_type": "code",
   "execution_count": 18,
   "metadata": {},
   "outputs": [],
   "source": [
    "scr_val = []"
   ]
  },
  {
   "cell_type": "code",
   "execution_count": 19,
   "metadata": {},
   "outputs": [
    {
     "name": "stdout",
     "output_type": "stream",
     "text": [
      "Wall time: 8min 8s\n"
     ]
    }
   ],
   "source": [
    "%%time # tb 8min 8s\n",
    "for clf in clf_linear_list3:\n",
    "    scr_val.append(clf.score(val_X, val_Y))"
   ]
  },
  {
   "cell_type": "code",
   "execution_count": 20,
   "metadata": {},
   "outputs": [
    {
     "name": "stdout",
     "output_type": "stream",
     "text": [
      "C\tVal\n",
      "0.102\t0.9479\n",
      "0.101\t0.948\n",
      "0.1\t0.9481\n",
      "0.099\t0.9482\n",
      "0.098\t0.9481\n"
     ]
    }
   ],
   "source": [
    "print(\"C\", \"Val\", sep='\\t')\n",
    "for i in range(len(clf_linear_list3)):\n",
    "    print(C[i], scr_val[i],sep='\\t')"
   ]
  },
  {
   "cell_type": "markdown",
   "metadata": {},
   "source": [
    "<b>Vậy chọn C = 0.099</b>"
   ]
  },
  {
   "cell_type": "code",
   "execution_count": 21,
   "metadata": {},
   "outputs": [
    {
     "name": "stdout",
     "output_type": "stream",
     "text": [
      "Loaded:  linear_data/linear_C=0.099.pkl\n"
     ]
    }
   ],
   "source": [
    "clf_linear_final = create_linear_clf(0.099)"
   ]
  },
  {
   "cell_type": "markdown",
   "metadata": {},
   "source": [
    "# Huấn luyện SVM RBF"
   ]
  },
  {
   "cell_type": "code",
   "execution_count": 22,
   "metadata": {},
   "outputs": [],
   "source": [
    "def create_clf(c, g):\n",
    "    to_save = \"rbf_data/C={0}_gamma={1}.pkl\".format(c,g)\n",
    "    if not os.path.isfile(to_save):\n",
    "        starttime = time.time()\n",
    "        print(\"Started\", to_save, \"at\", time.strftime('%H:%M:%S', time.localtime(starttime)), end=\" | \")\n",
    "        model = svm.SVC(kernel=\"rbf\", decision_function_shape='ovo', C=c, gamma=g)\n",
    "        model.fit(train_X, train_Y)\n",
    "        pickle.dump(model, open(to_save, 'wb'))\n",
    "        print(\"Finished. Time elapsed:\", time.time() - starttime)\n",
    "    else:\n",
    "        model = pickle.load(open(to_save, 'rb'))\n",
    "        print(\"Loaded: \", to_save)\n",
    "    return model"
   ]
  },
  {
   "cell_type": "markdown",
   "metadata": {},
   "source": [
    "## Tìm tham số"
   ]
  },
  {
   "cell_type": "markdown",
   "metadata": {},
   "source": [
    "<b> Lần 1 - Thử C: </b>"
   ]
  },
  {
   "cell_type": "code",
   "execution_count": 23,
   "metadata": {},
   "outputs": [
    {
     "name": "stdout",
     "output_type": "stream",
     "text": [
      "Loaded:  rbf_data/C=3_gamma=0.1.pkl\n",
      "Loaded:  rbf_data/C=2_gamma=0.1.pkl\n",
      "Loaded:  rbf_data/C=1_gamma=0.1.pkl\n",
      "Loaded:  rbf_data/C=0.5_gamma=0.1.pkl\n",
      "Loaded:  rbf_data/C=0.1_gamma=0.1.pkl\n",
      "Loaded:  rbf_data/C=0.01_gamma=0.1.pkl\n",
      "Loaded:  rbf_data/C=0.001_gamma=0.1.pkl\n"
     ]
    }
   ],
   "source": [
    "clf_rbf_list1 = []\n",
    "C = [3, 2, 1, 0.5, 1e-1, 1e-2, 1e-3]\n",
    "g = 0.1\n",
    "\n",
    "for c in C:\n",
    "    clf = create_clf(c, g)\n",
    "    clf_rbf_list1.append(clf)"
   ]
  },
  {
   "cell_type": "code",
   "execution_count": 24,
   "metadata": {},
   "outputs": [
    {
     "name": "stdout",
     "output_type": "stream",
     "text": [
      "Time: 2661.8074884414673\n"
     ]
    }
   ],
   "source": [
    "scr_val_l1 = []\n",
    "starttime = time.time()\n",
    "for clf in clf_rbf_list1:\n",
    "    scr_val_l1.append(clf.score(val_X, val_Y))\n",
    "print(\"Time:\", time.time() - starttime)"
   ]
  },
  {
   "cell_type": "code",
   "execution_count": 25,
   "metadata": {},
   "outputs": [
    {
     "name": "stdout",
     "output_type": "stream",
     "text": [
      "Gamma = 0.1\n",
      "C\tVal\n",
      "3\t0.9566\n",
      "2\t0.9566\n",
      "1\t0.9552\n",
      "0.5\t0.9229\n",
      "0.1\t0.6875\n",
      "0.01\t0.2172\n",
      "0.001\t0.1064\n"
     ]
    }
   ],
   "source": [
    "print(\"Gamma =\", g)\n",
    "print(\"C\", \"Val\", sep='\\t')\n",
    "for i in range(len(clf_rbf_list1)):\n",
    "    print(C[i], scr_val_l1[i],sep='\\t')"
   ]
  },
  {
   "cell_type": "markdown",
   "metadata": {},
   "source": [
    "-> C > 3"
   ]
  },
  {
   "cell_type": "markdown",
   "metadata": {},
   "source": [
    "<b> <b> Lần 1 - Thử gamma </b>"
   ]
  },
  {
   "cell_type": "code",
   "execution_count": 26,
   "metadata": {},
   "outputs": [
    {
     "name": "stdout",
     "output_type": "stream",
     "text": [
      "Loaded:  rbf_data/C=0.1_gamma=10.pkl\n",
      "Loaded:  rbf_data/C=0.1_gamma=5.pkl\n",
      "Loaded:  rbf_data/C=0.1_gamma=1.pkl\n",
      "Loaded:  rbf_data/C=0.1_gamma=0.1.pkl\n",
      "Loaded:  rbf_data/C=0.1_gamma=0.01.pkl\n",
      "Loaded:  rbf_data/C=0.1_gamma=0.001.pkl\n"
     ]
    }
   ],
   "source": [
    "clf_rbf_list2 = []\n",
    "c= 0.1\n",
    "G = [10, 5, 1, 1e-1, 1e-2, 1e-3]\n",
    "\n",
    "for g in G:\n",
    "    clf = create_clf(c, g)\n",
    "    clf_rbf_list2.append(clf)"
   ]
  },
  {
   "cell_type": "code",
   "execution_count": 27,
   "metadata": {},
   "outputs": [
    {
     "name": "stdout",
     "output_type": "stream",
     "text": [
      "Time: 1859.4848289489746\n"
     ]
    }
   ],
   "source": [
    "scr_val_l2 = [] # tb 1859s\n",
    "starttime = time.time()\n",
    "for clf in clf_rbf_list2:\n",
    "    scr_val_l2.append(clf.score(val_X, val_Y))\n",
    "print(\"Time:\", time.time() - starttime)"
   ]
  },
  {
   "cell_type": "code",
   "execution_count": 28,
   "metadata": {},
   "outputs": [
    {
     "name": "stdout",
     "output_type": "stream",
     "text": [
      "C = 0.1\n",
      "Gamma\tVal\n",
      "10\t0.1064\n",
      "5\t0.1064\n",
      "1\t0.1064\n",
      "0.1\t0.6875\n",
      "0.01\t0.9578\n",
      "0.001\t0.9139\n"
     ]
    }
   ],
   "source": [
    "print(\"C =\", c)\n",
    "print(\"Gamma\", \"Val\", sep='\\t')\n",
    "for i in range(len(clf_rbf_list2)):\n",
    "    print(G[i], scr_val_l2[i],sep='\\t')"
   ]
  },
  {
   "cell_type": "markdown",
   "metadata": {},
   "source": [
    "<b> Lần 2 - Thử C: </b>"
   ]
  },
  {
   "cell_type": "code",
   "execution_count": 29,
   "metadata": {},
   "outputs": [
    {
     "name": "stdout",
     "output_type": "stream",
     "text": [
      "Loaded:  rbf_data/C=12_gamma=0.01.pkl\n",
      "Loaded:  rbf_data/C=11_gamma=0.01.pkl\n",
      "Loaded:  rbf_data/C=10_gamma=0.01.pkl\n",
      "Loaded:  rbf_data/C=9_gamma=0.01.pkl\n",
      "Loaded:  rbf_data/C=7_gamma=0.01.pkl\n",
      "Loaded:  rbf_data/C=5_gamma=0.01.pkl\n",
      "Loaded:  rbf_data/C=3_gamma=0.01.pkl\n"
     ]
    }
   ],
   "source": [
    "g = 0.01\n",
    "C = [12, 11, 10, 9, 7, 5, 3]\n",
    "clf_rbf_list3 = []\n",
    "\n",
    "for c in C:\n",
    "    clf = create_clf(c, g)\n",
    "    clf_rbf_list3.append(clf)"
   ]
  },
  {
   "cell_type": "code",
   "execution_count": 30,
   "metadata": {},
   "outputs": [
    {
     "name": "stdout",
     "output_type": "stream",
     "text": [
      "Time: 515.9679684638977\n"
     ]
    }
   ],
   "source": [
    "scr_val_l3 = [] # tb 515s\n",
    "starttime = time.time()\n",
    "for clf in clf_rbf_list3:\n",
    "    scr_val_l3.append(clf.score(val_X, val_Y))\n",
    "print(\"Time:\", time.time() - starttime)"
   ]
  },
  {
   "cell_type": "code",
   "execution_count": 31,
   "metadata": {},
   "outputs": [
    {
     "name": "stdout",
     "output_type": "stream",
     "text": [
      "Gamma = 0.01\n",
      "C\tVal\n",
      "12\t0.9831\n",
      "11\t0.9832\n",
      "10\t0.9835\n",
      "9\t0.9832\n",
      "7\t0.9827\n",
      "5\t0.9828\n",
      "3\t0.9818\n"
     ]
    }
   ],
   "source": [
    "print(\"Gamma =\", g)\n",
    "print(\"C\", \"Val\", sep='\\t')\n",
    "for i in range(len(clf_rbf_list3)):\n",
    "    print(C[i], scr_val_l3[i],sep='\\t')"
   ]
  },
  {
   "cell_type": "markdown",
   "metadata": {},
   "source": [
    "-> C ~= 10"
   ]
  },
  {
   "cell_type": "markdown",
   "metadata": {},
   "source": [
    "<b> Lần 2 - Thử C và gamma: </b>"
   ]
  },
  {
   "cell_type": "code",
   "execution_count": 12,
   "metadata": {
    "scrolled": true
   },
   "outputs": [
    {
     "name": "stdout",
     "output_type": "stream",
     "text": [
      "Started rbf_data/C=11_gamma=0.0106.pkl at 01:21:54 | Finished. Time elapsed: 221.4893777370453\n",
      "Started rbf_data/C=11_gamma=0.0104.pkl at 01:25:35 | Finished. Time elapsed: 220.03825116157532\n",
      "Started rbf_data/C=11_gamma=0.0102.pkl at 01:29:15 | Finished. Time elapsed: 220.1247274875641\n",
      "Started rbf_data/C=11_gamma=0.01.pkl at 01:32:55 | Finished. Time elapsed: 216.97023510932922\n",
      "Started rbf_data/C=11_gamma=0.0098.pkl at 01:36:32 | Finished. Time elapsed: 216.1236982345581\n",
      "Started rbf_data/C=11_gamma=0.0096.pkl at 01:40:08 | Finished. Time elapsed: 214.32086944580078\n",
      "Started rbf_data/C=11_gamma=0.0094.pkl at 01:43:43 | Finished. Time elapsed: 215.721266746521\n",
      "Started rbf_data/C=10.05_gamma=0.0106.pkl at 01:47:18 | Finished. Time elapsed: 220.12193250656128\n",
      "Started rbf_data/C=10.05_gamma=0.0104.pkl at 01:50:58 | Finished. Time elapsed: 219.92914175987244\n",
      "Loaded:  rbf_data/C=10.05_gamma=0.0102.pkl\n",
      "Loaded:  rbf_data/C=10.05_gamma=0.01.pkl\n",
      "Loaded:  rbf_data/C=10.05_gamma=0.0098.pkl\n",
      "Started rbf_data/C=10.05_gamma=0.0096.pkl at 01:54:39 | Finished. Time elapsed: 214.1162257194519\n",
      "Started rbf_data/C=10.05_gamma=0.0094.pkl at 01:58:13 | Finished. Time elapsed: 218.4043481349945\n",
      "Started rbf_data/C=10_gamma=0.0106.pkl at 02:01:51 | Finished. Time elapsed: 240.35861659049988\n",
      "Started rbf_data/C=10_gamma=0.0104.pkl at 02:05:52 | Finished. Time elapsed: 235.57934069633484\n",
      "Loaded:  rbf_data/C=10_gamma=0.0102.pkl\n",
      "Loaded:  rbf_data/C=10_gamma=0.01.pkl\n",
      "Loaded:  rbf_data/C=10_gamma=0.0098.pkl\n",
      "Started rbf_data/C=10_gamma=0.0096.pkl at 02:09:47 | Finished. Time elapsed: 214.32663249969482\n",
      "Started rbf_data/C=10_gamma=0.0094.pkl at 02:13:22 | Finished. Time elapsed: 215.40498065948486\n",
      "Started rbf_data/C=9.95_gamma=0.0106.pkl at 02:16:57 | Finished. Time elapsed: 222.67219924926758\n",
      "Started rbf_data/C=9.95_gamma=0.0104.pkl at 02:20:40 | Finished. Time elapsed: 219.24349355697632\n",
      "Started rbf_data/C=9.95_gamma=0.0102.pkl at 02:24:19 | Finished. Time elapsed: 218.06549191474915\n",
      "Started rbf_data/C=9.95_gamma=0.01.pkl at 02:27:57 | Finished. Time elapsed: 219.68062019348145\n",
      "Started rbf_data/C=9.95_gamma=0.0098.pkl at 02:31:37 | Finished. Time elapsed: 218.83790731430054\n",
      "Started rbf_data/C=9.95_gamma=0.0096.pkl at 02:35:16 | Finished. Time elapsed: 215.57994556427002\n",
      "Started rbf_data/C=9.95_gamma=0.0094.pkl at 02:38:51 | Finished. Time elapsed: 213.98915266990662\n",
      "Started rbf_data/C=9_gamma=0.0106.pkl at 02:42:25 | Finished. Time elapsed: 223.018381357193\n",
      "Started rbf_data/C=9_gamma=0.0104.pkl at 02:46:08 | Finished. Time elapsed: 222.0445442199707\n",
      "Started rbf_data/C=9_gamma=0.0102.pkl at 02:49:50 | Finished. Time elapsed: 220.7730827331543\n",
      "Started rbf_data/C=9_gamma=0.01.pkl at 02:53:31 | Finished. Time elapsed: 216.99180841445923\n",
      "Started rbf_data/C=9_gamma=0.0098.pkl at 02:57:08 | Finished. Time elapsed: 216.73834824562073\n",
      "Started rbf_data/C=9_gamma=0.0096.pkl at 03:00:45 | Finished. Time elapsed: 216.87346935272217\n",
      "Started rbf_data/C=9_gamma=0.0094.pkl at 03:04:22 | Finished. Time elapsed: 216.58736443519592\n"
     ]
    }
   ],
   "source": [
    "gamma = [0.0106, 0.0104, 0.0102, 0.01, 0.0098, 0.0096, 0.0094]\n",
    "C = [11, 10.05, 10, 9.95, 9]\n",
    "\n",
    "clf_rbf_list4 = []\n",
    "for c in C:\n",
    "    for g in gamma:\n",
    "        clf = create_clf(c, g)\n",
    "        clf_rbf_list4.append(clf)"
   ]
  },
  {
   "cell_type": "code",
   "execution_count": 13,
   "metadata": {},
   "outputs": [
    {
     "name": "stdout",
     "output_type": "stream",
     "text": [
      "Time: 2490.841185092926\n"
     ]
    }
   ],
   "source": [
    "scr_l4 = [] # tb 2490s\n",
    "starttime = time.time()\n",
    "for clf in clf_rbf_list4:\n",
    "    scr_l4.append(clf.score(val_X, val_Y))\n",
    "print(\"Time:\", time.time() - starttime)"
   ]
  },
  {
   "cell_type": "code",
   "execution_count": 23,
   "metadata": {},
   "outputs": [
    {
     "name": "stdout",
     "output_type": "stream",
     "text": [
      "C/gamma\t\t0.0106\t\t0.0104\t\t0.0102\t\t0.01\t\t0.0098\t\t0.0096\t\t0.0094\n",
      "\n",
      "11\t\t0.9831\t\t0.9831\t\t0.9832\t\t0.9832\t\t0.9832\t\t0.9831\t\t0.9833\t\t\n",
      "10.05\t\t0.9832\t\t0.9832\t\t0.9834\t\t0.9834\t\t0.9832\t\t0.9831\t\t0.9832\t\t\n",
      "10\t\t0.9832\t\t0.9832\t\t0.9835\t\t0.9835\t\t0.9833\t\t0.983\t\t0.9832\t\t\n",
      "9.95\t\t0.9832\t\t0.9832\t\t0.9835\t\t0.9835\t\t0.9832\t\t0.9829\t\t0.9831\t\t\n",
      "9\t\t0.9835\t\t0.9834\t\t0.9835\t\t0.9832\t\t0.983\t\t0.9829\t\t0.983\t\t\n"
     ]
    }
   ],
   "source": [
    "print(\"C/gamma\",0.0106,0.0104,0.0102, 0.01, 0.0098,0.0096,0.0094,sep='\\t\\t',end='\\n\\n')\n",
    "i=0\n",
    "while(i<len(clf_rbf_list4)):\n",
    "    print(C[int(i/7)],end=\"\\t\\t\")\n",
    "    for j in range(7):\n",
    "        print(scr_l4[i+j],end=\"\\t\\t\")\n",
    "    print('\\n',end='')\n",
    "    i+=7"
   ]
  },
  {
   "cell_type": "code",
   "execution_count": 17,
   "metadata": {},
   "outputs": [
    {
     "data": {
      "text/plain": [
       "(0.9835, 16, SVC(C=10, decision_function_shape='ovo', gamma=0.0102))"
      ]
     },
     "execution_count": 17,
     "metadata": {},
     "output_type": "execute_result"
    }
   ],
   "source": [
    "max_s = max(scr_l4)\n",
    "max_i = scr_l4.index(max_s)\n",
    "max_s, max_i, clf_rbf_list4[max_i]"
   ]
  },
  {
   "cell_type": "markdown",
   "metadata": {},
   "source": [
    "<b> Lần 3 - Thử C và gamma: </b>"
   ]
  },
  {
   "cell_type": "code",
   "execution_count": 31,
   "metadata": {},
   "outputs": [
    {
     "name": "stdout",
     "output_type": "stream",
     "text": [
      "Started rbf_data/C=10.01_gamma=0.0102.pkl at 11:48:45 | Finished. Time elapsed: 226.77388405799866\n",
      "Started rbf_data/C=10.01_gamma=0.01018.pkl at 11:52:32 | Finished. Time elapsed: 226.73426151275635\n",
      "Started rbf_data/C=10.01_gamma=0.01014.pkl at 11:56:18 | Finished. Time elapsed: 225.8777813911438\n",
      "Started rbf_data/C=10.01_gamma=0.0101.pkl at 12:00:04 | Finished. Time elapsed: 225.79959297180176\n",
      "Started rbf_data/C=10.01_gamma=0.01008.pkl at 12:03:50 | Finished. Time elapsed: 226.04461359977722\n",
      "Started rbf_data/C=10.01_gamma=0.01004.pkl at 12:07:36 | Finished. Time elapsed: 231.44677543640137\n",
      "Started rbf_data/C=10.01_gamma=0.01.pkl at 12:11:28 | Finished. Time elapsed: 224.20754432678223\n",
      "Loaded:  rbf_data/C=10_gamma=0.0102.pkl\n",
      "Loaded:  rbf_data/C=10_gamma=0.01018.pkl\n",
      "Loaded:  rbf_data/C=10_gamma=0.01014.pkl\n",
      "Loaded:  rbf_data/C=10_gamma=0.0101.pkl\n",
      "Loaded:  rbf_data/C=10_gamma=0.01008.pkl\n",
      "Loaded:  rbf_data/C=10_gamma=0.01004.pkl\n",
      "Loaded:  rbf_data/C=10_gamma=0.01.pkl\n",
      "Loaded:  rbf_data/C=9.99_gamma=0.0102.pkl\n",
      "Loaded:  rbf_data/C=9.99_gamma=0.01018.pkl\n",
      "Loaded:  rbf_data/C=9.99_gamma=0.01014.pkl\n",
      "Loaded:  rbf_data/C=9.99_gamma=0.0101.pkl\n",
      "Loaded:  rbf_data/C=9.99_gamma=0.01008.pkl\n",
      "Loaded:  rbf_data/C=9.99_gamma=0.01004.pkl\n",
      "Loaded:  rbf_data/C=9.99_gamma=0.01.pkl\n",
      "Loaded:  rbf_data/C=9.98_gamma=0.0102.pkl\n",
      "Loaded:  rbf_data/C=9.98_gamma=0.01018.pkl\n",
      "Loaded:  rbf_data/C=9.98_gamma=0.01014.pkl\n",
      "Loaded:  rbf_data/C=9.98_gamma=0.0101.pkl\n",
      "Loaded:  rbf_data/C=9.98_gamma=0.01008.pkl\n",
      "Loaded:  rbf_data/C=9.98_gamma=0.01004.pkl\n",
      "Loaded:  rbf_data/C=9.98_gamma=0.01.pkl\n"
     ]
    }
   ],
   "source": [
    "C=[10.01, 10, 9.99, 9.98]\n",
    "gamma = [0.0102, 0.01018, 0.01014, 0.0101, 0.01008, 0.01004, 0.01]\n",
    "\n",
    "clf_rbf_list5 = []\n",
    "for c in C:\n",
    "    for g in gamma:\n",
    "        clf = create_clf(c, g)\n",
    "        clf_rbf_list5.append(clf)"
   ]
  },
  {
   "cell_type": "code",
   "execution_count": 32,
   "metadata": {},
   "outputs": [
    {
     "name": "stdout",
     "output_type": "stream",
     "text": [
      "Time: 2072.3849124908447\n"
     ]
    }
   ],
   "source": [
    "scr_l5 = [] # tb 2072\n",
    "starttime = time.time()\n",
    "for clf in clf_rbf_list5:\n",
    "    scr_l5.append(clf.score(val_X, val_Y))\n",
    "print(\"Time:\", time.time() - starttime)"
   ]
  },
  {
   "cell_type": "code",
   "execution_count": 33,
   "metadata": {},
   "outputs": [
    {
     "name": "stdout",
     "output_type": "stream",
     "text": [
      "C/gamma\t\t0.0102\t\t0.01018\t\t0.01014\t\t0.0101\t\t0.01008\t\t0.01004\t\t0.01\n",
      "\n",
      "10.01\t\t0.9834\t\t0.9834\t\t0.9833\t\t0.9834\t\t0.9835\t\t0.9835\t\t0.9835\t\t\n",
      "10\t\t0.9835\t\t0.9834\t\t0.9834\t\t0.9833\t\t0.9835\t\t0.9835\t\t0.9835\t\t\n",
      "9.99\t\t0.9835\t\t0.9834\t\t0.9834\t\t0.9835\t\t0.9835\t\t0.9835\t\t0.9835\t\t\n",
      "9.98\t\t0.9834\t\t0.9835\t\t0.9834\t\t0.9835\t\t0.9835\t\t0.9835\t\t0.9835\t\t\n"
     ]
    }
   ],
   "source": [
    "print(\"C/gamma\",0.0102, 0.01018, 0.01014, 0.0101, 0.01008, 0.01004, 0.01,sep='\\t\\t',end='\\n\\n')\n",
    "i=0\n",
    "while(i<len(clf_rbf_list5)):\n",
    "    print(C[int(i/7)],end=\"\\t\\t\")\n",
    "    for j in range(7):\n",
    "        print(scr_l5[i+j],end=\"\\t\\t\")\n",
    "    print('\\n',end='')\n",
    "    i+=7"
   ]
  },
  {
   "cell_type": "code",
   "execution_count": 34,
   "metadata": {},
   "outputs": [
    {
     "data": {
      "text/plain": [
       "(0.9835, 4, SVC(C=10.01, decision_function_shape='ovo', gamma=0.01008))"
      ]
     },
     "execution_count": 34,
     "metadata": {},
     "output_type": "execute_result"
    }
   ],
   "source": [
    "max_s = max(scr_l5)\n",
    "max_i = scr_l5.index(max_s)\n",
    "max_s, max_i, clf_rbf_list5[max_i]"
   ]
  },
  {
   "cell_type": "markdown",
   "metadata": {},
   "source": [
    "<b>Chọn C=10, gamma = 0.01</b>"
   ]
  },
  {
   "cell_type": "code",
   "execution_count": 8,
   "metadata": {},
   "outputs": [
    {
     "name": "stdout",
     "output_type": "stream",
     "text": [
      "Loaded:  rbf_data/C=10_gamma=0.01.pkl\n"
     ]
    }
   ],
   "source": [
    "clf_rbf_final = create_clf(10, 0.01)"
   ]
  },
  {
   "cell_type": "markdown",
   "metadata": {},
   "source": [
    "# Chọn hàm dự đoán cuối cùng"
   ]
  },
  {
   "cell_type": "markdown",
   "metadata": {},
   "source": [
    "Model RBF có score trên tập validation > Model Linear, nên chọn model RBF"
   ]
  },
  {
   "cell_type": "markdown",
   "metadata": {},
   "source": [
    "[Link download file lưu model này](https://drive.google.com/file/d/1T7rbMcE8leabjCkv-B139DNCnCCnq8m-/view?usp=sharing)"
   ]
  },
  {
   "cell_type": "markdown",
   "metadata": {},
   "source": [
    "Độ chính xác model đã chọn trên tập test:"
   ]
  },
  {
   "cell_type": "code",
   "execution_count": 9,
   "metadata": {},
   "outputs": [
    {
     "data": {
      "text/plain": [
       "0.982"
      ]
     },
     "execution_count": 9,
     "metadata": {},
     "output_type": "execute_result"
    }
   ],
   "source": [
    "score = clf_rbf_final.score(test_X, test_Y)\n",
    "score"
   ]
  },
  {
   "cell_type": "code",
   "execution_count": 10,
   "metadata": {},
   "outputs": [
    {
     "name": "stdout",
     "output_type": "stream",
     "text": [
      "Test error rate (%):  1.8000000000000016\n"
     ]
    }
   ],
   "source": [
    "print(\"Test error rate (%): \", (1-score)*100)"
   ]
  },
  {
   "cell_type": "markdown",
   "metadata": {},
   "source": [
    "# Đánh giá"
   ]
  },
  {
   "cell_type": "markdown",
   "metadata": {},
   "source": [
    "Mô hình được chọn có độ lỗi trên tập test khoảng 1.8%\n",
    "-\tKém hơn so với mô hình đã thực hiện trước của người khác (1.4%)\n",
    "-\tLý do có thể vì chưa tối ưu tốt nhất siêu tham số:\n",
    " + Ở C có đoạn C = 5 cho kết quả cao hơn so với xung quanh nhưng không có xét lân cận\n",
    " + Chia đoạn ở C = 10, γ = 0.01 chưa đủ nhỏ để có thể tìm thấy tham số tối ưu hơn.\n"
   ]
  },
  {
   "cell_type": "code",
   "execution_count": null,
   "metadata": {},
   "outputs": [],
   "source": []
  }
 ],
 "metadata": {
  "kernelspec": {
   "display_name": "Python 3",
   "language": "python",
   "name": "python3"
  },
  "language_info": {
   "codemirror_mode": {
    "name": "ipython",
    "version": 3
   },
   "file_extension": ".py",
   "mimetype": "text/x-python",
   "name": "python",
   "nbconvert_exporter": "python",
   "pygments_lexer": "ipython3",
   "version": "3.7.4"
  }
 },
 "nbformat": 4,
 "nbformat_minor": 2
}
